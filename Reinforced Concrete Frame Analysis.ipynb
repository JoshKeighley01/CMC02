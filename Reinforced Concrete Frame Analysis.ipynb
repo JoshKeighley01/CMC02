{
 "cells": [
  {
   "cell_type": "markdown",
   "metadata": {},
   "source": [
    "# Reinforced Concrete Frame Analysis"
   ]
  },
  {
   "cell_type": "markdown",
   "metadata": {},
   "source": [
    "This notebook explains the analysis of the reinforced concrete frame shown below using OpenSeesPy. The frame will be analyzed using gravity load analysis and pushover analysis. The example is sourced from the OpenSees wiki [here](https://opensees.ist.berkeley.edu/wiki/index.php?title=Reinforced_Concrete_Frame_Example). The code used in the notebook is a modified version of the scripts provided in the OpenSeesPy documentation [here](https://openseespydoc.readthedocs.io/en/latest/src/RCFrameGravity.html). This notebook will also introduce the use of the 'opsvis' module. The documentation for this module can be found [here](https://opsvis.readthedocs.io/en/latest/). The reader should use this module when they tackle problems using OpenSeesPy in the future. The module is very simple to use and is excellent for problem visualization and understanding what is happening in each step. "
   ]
  },
  {
   "cell_type": "markdown",
   "metadata": {},
   "source": [
    "\n",
    "## Diagram"
   ]
  },
  {
   "attachments": {
    "Reinforced concrete frame diagram.PNG": {
     "image/png": "[encoded data removed]"
    }
   },
   "cell_type": "markdown",
   "metadata": {},
   "source": [
    "![Reinforced concrete frame diagram.PNG](<attachment:Reinforced concrete frame diagram.PNG>)"
   ]
  },
  {
   "cell_type": "markdown",
   "metadata": {},
   "source": [
    "Below the required modules are imported and important variables are defined."
   ]
  },
  {
   "cell_type": "code",
   "execution_count": 70,
   "metadata": {},
   "outputs": [],
   "source": [
    "import openseespy.opensees as ops\n",
    "import numpy as np\n",
    "import opsvis as opsv\n",
    "import matplotlib.pyplot as plt\n",
    "import os\n",
    "\n",
    "#Units\n",
    "m = 1\n",
    "mm = 0.001*m\n",
    "N = 1\n",
    "kN = 1000*N\n",
    "Pa = 1\n",
    "\n",
    "inches = 0.0254*m\n",
    "ft = 12*inches\n",
    "kip = 4.45*10**3*N\n",
    "ksi = 6.89*10**6*Pa\n",
    "\n",
    "# Portal frame dimensions\n",
    "width = 30*ft\n",
    "height = 12*ft\n",
    "\n",
    "# Column dimensions\n",
    "colWidth = 15*inches\n",
    "colDepth = 24*inches\n",
    "\n",
    "# Steel reinforcement\n",
    "cover = 1.5*inches\n",
    "As = (0.60*inches)**2  # area of no. 7 bars\n",
    "fy = 60.0;  # Yield stress\n",
    "E = 30000.0;  # Young's modulus\n",
    "\n",
    "# Column centrelines\n",
    "y1 = colDepth / 2.0\n",
    "z1 = colWidth / 2.0\n",
    "\n",
    "# Beam properties\n",
    "A_beam = 360.0\n",
    "E_beam = 4030.0\n",
    "Iz_beam = 8640.0\n",
    "\n",
    "# Set deflection tolerance\n",
    "tol = 1e-6"
   ]
  },
  {
   "cell_type": "markdown",
   "metadata": {},
   "source": [
    "## Model Definition"
   ]
  },
  {
   "cell_type": "markdown",
   "metadata": {},
   "source": [
    "This code block executes the model definition, creates notes, and sets boundary conditions. Refer to the Basic Truss Example notebook for an explanation of these commands. Then the 'plot_model' command from the opsvis module is used to plot the model nodes."
   ]
  },
  {
   "cell_type": "code",
   "execution_count": 71,
   "metadata": {},
   "outputs": [
    {
     "data": {
      "text/plain": [
       "Text(0.5, 1.0, 'Plot of model nodes')"
      ]
     },
     "execution_count": 71,
     "metadata": {},
     "output_type": "execute_result"
    },
    {
     "data": {
      "image/png": "[encoded data removed]",
      "text/plain": [
       "<Figure size 640x480 with 1 Axes>"
      ]
     },
     "metadata": {},
     "output_type": "display_data"
    }
   ],
   "source": [
    "ops.wipe()\n",
    "\n",
    "#Create file path for data output\n",
    "if not os.path.exists('Data'):\n",
    "    os.mkdir('Data')\n",
    "\n",
    "# Model Definition\n",
    "# ----------------\n",
    "\n",
    "# Create ModelBuilder (with two-dimensions and 3 DOF/node)\n",
    "ops.model('basic', '-ndm', 2, '-ndf', 3)\n",
    "\n",
    "# Create nodes\n",
    "#         tag, X, Y\n",
    "ops.node(1, 0.0, 0.0)\n",
    "ops.node(2, width, 0.0)\n",
    "ops.node(3, 0.0, height)\n",
    "ops.node(4, width, height)\n",
    "\n",
    "# Fix supports at base of columns\n",
    "#   tag, DX, DY, RZ\n",
    "ops.fix(1, 1, 1, 1)\n",
    "ops.fix(2, 1, 1, 1)\n",
    "\n",
    "#Plot the model\n",
    "opsv.plot_model()\n",
    "plt.title('Plot of model nodes')"
   ]
  },
  {
   "cell_type": "markdown",
   "metadata": {},
   "source": [
    "Shown below is the material definition. Refer to the Basic Truss Example notebook for an explanation of uniaxialMaterial command. The cover concrete, outside of the steel reinforcement, is expected to perform differently than the core concrete, inside of steel reinforcement. Therefore two seperate materials are defined for concrete within these reigon as seen below."
   ]
  },
  {
   "cell_type": "code",
   "execution_count": 72,
   "metadata": {},
   "outputs": [],
   "source": [
    "# Define materials for nonlinear columns\n",
    "# ------------------------------------------\n",
    "\n",
    "# CONCRETE                        tag  f'c    ec0    f'cu   ecu\n",
    "# Core concrete (confined)\n",
    "ops.uniaxialMaterial('Concrete01', 1, -6.0, -0.004, -5.0, -0.014)\n",
    "\n",
    "# Cover concrete (unconfined)\n",
    "ops.uniaxialMaterial('Concrete01', 2, -5.0, -0.002, 0.0, -0.006)\n",
    "\n",
    "# STEEL                        tag  fy E0    b\n",
    "ops.uniaxialMaterial('Steel01', 3, fy, E, 0.01)\n"
   ]
  },
  {
   "cell_type": "markdown",
   "metadata": {},
   "source": [
    "Shown below is the definition of the column cross-section. The cross-section was both defined and plotted using the opsvis module. To do so, a list of lists (fib_sec_1) was created which defines a list of OpenSeesPy commands. Each list, within fib_sect_1, defines the command 'type' and then all of the command inputs. Now, fib_sect_1 is used to plot the section using the opsvis 'plot_fibre_section' command. This to allow the reader to visualise the section. Then fib_sect_1 is changed to OpenSeesPy commands using the opsvis 'fib_sec_list_to_cmds' command. This executes the commands as they would be called using OpenSeesPy. \n",
    "\n",
    "The standard way of defining the section using OpenSeesPy is shown in the commented-out code below. The 'section' command with command type 'Fiber' allows the creation of a Fiber Section object. A fiber section object is a cross-section that changes across defined boundaries. In the case of this example, the cross-section differs in the 'confined concrete' region in comparison to the 'cover concrete' region. These regions are defined by the placement of reinforcement within the cross-section. The regions are defined in OpenSeesPy using the 'patch' command. By using the patch command type 'rect' several rectangular-shaped fibers are created within a region of the Fibre Section that you define. In the case of this example, one rectangle region is used to define the core concrete (plotted in red), and four rectangle regions are used to define the surrounding cover concrete (plotted in light grey). These reigons can be split up into numerous fibers as seen in the patch command documentation [here](https://openseespydoc.readthedocs.io/en/latest/src/patch.html). In the case of this example, the core concrete cover, top and bottom cover, and left and right cover are split into 10, 2 and 10 fibres respectively (see plot of fibre section). The reigons are split up across the length of the y-axis, because bending is occuring about the strong axis of the section."
   ]
  },
  {
   "cell_type": "code",
   "execution_count": 73,
   "metadata": {},
   "outputs": [
    {
     "data": {
      "image/png": "[encoded data removed]",
      "text/plain": [
       "<Figure size 640x480 with 1 Axes>"
      ]
     },
     "metadata": {},
     "output_type": "display_data"
    }
   ],
   "source": [
    "# Plot the fibre section\n",
    "fib_sec_1 = [['section', 'Fiber', 1, '-GJ', 1.0e6],\n",
    "             ['patch', 'rect', 1, 10, 1, cover - y1, cover - z1, y1 - cover, z1 - cover],  # core concrete\n",
    "             ['patch', 'rect', 2, 10, 1, -y1, z1 - cover, y1, z1],  # left cover\n",
    "             ['patch', 'rect', 2, 10, 1, -y1, -z1, y1, cover - z1],  # right cover\n",
    "             ['patch', 'rect', 2, 2, 1, -y1, cover - z1, cover - y1, z1 - cover],  # top cover\n",
    "             ['patch', 'rect', 2, 2, 1, y1 - cover, cover - z1, y1, z1 - cover],  # bottom cover \n",
    "             ['layer','straight', 3, 3, As, y1 - cover, z1 - cover, y1 - cover, cover - z1], # Left layer of steel reinforcement\n",
    "             ['layer','straight', 3, 2, As, 0.0, z1 - cover, 0.0, cover - z1], # Middle layer\n",
    "             ['layer','straight', 3, 3, As, cover - y1, z1 - cover, cover - y1, cover - z1] #right layer\n",
    "             ]            \n",
    "\n",
    "matcolor = ['r', 'lightgrey']\n",
    "opsv.plot_fiber_section(fib_sec_1, matcolor=matcolor)\n",
    "plt.axis('equal')\n",
    "plt.show()\n",
    "\n",
    "opsv.fib_sec_list_to_cmds(fib_sec_1)\n",
    "\n",
    "# Define cross-section for nonlinear columns\n",
    "# ------------------------------------------\n",
    "\n",
    "# ops.section('Fiber', 1)\n",
    "\n",
    "# # Create the concrete core fiber\n",
    "# ops.patch('rect', 1, 10, 1, cover - y1, cover - z1, y1 - cover, z1 - cover)\n",
    "\n",
    "# # Create the concrete cover fibers (top, bottom, left, right)\n",
    "# ops.patch('rect', 2, 10, 1, -y1, z1 - cover, y1, z1)\n",
    "# ops.patch('rect', 2, 10, 1, -y1, -z1, y1, cover - z1)\n",
    "# ops.patch('rect', 2, 2, 1, -y1, cover - z1, cover - y1, z1 - cover)\n",
    "# ops.patch('rect', 2, 2, 1, y1 - cover, cover - z1, y1, z1 - cover)\n",
    "\n",
    "# # Create the reinforcing fibers (left, middle, right)\n",
    "# ops.layer('straight', 3, 3, As, y1 - cover, z1 - cover, y1 - cover, cover - z1)\n",
    "# ops.layer('straight', 3, 2, As, 0.0, z1 - cover, 0.0, cover - z1)\n",
    "# ops.layer('straight', 3, 3, As, cover - y1, z1 - cover, cover - y1, cover - z1)"
   ]
  },
  {
   "cell_type": "markdown",
   "metadata": {},
   "source": [
    "Shown below is the definition and plotting of elements. There are a few new commands here that need to be explained in detail, so let's break it down.\n",
    "\n",
    "#### geoTransf command\n",
    "\n",
    "The geomTransf command is used to define a geometric transformation for the column elements. It is important because it converts the local coordinate system of the column elements to the global coordinate system. There are 3 different types of geometric transformations that can be used:\n",
    "\n",
    "- Linear Transformation: This is the most simple transformation and is suitable for first-order linear elastic analysis where the geometry of the model doesn't significantly change during loading. i.e. Small deflections are expected.\n",
    "\n",
    "- P-Delta Transformation: This transformation should be used for second-order elastic analysis where additional moments are expected from lateral deflection of the structure under load i.e. P-Delta effects. \n",
    "\n",
    "- Corotational Transformation: This transformation is used for second-order non-linear analysis and should be used where larger deformation is expected to occur. The transformation accounts for large rotations of elements and geometric nonlinearity. \n",
    "\n",
    "#### beamIntegration command\n",
    "\n",
    "The 'beamIntegration' command selects the numerical integration algorithm that will be used for a beam element and allows the user to select the distribution of integration points along the element. There are 15 different beamIntergration types available in OpenSeesPy, detailed in the documentation [here](https://openseespydoc.readthedocs.io/en/latest/src/beamIntegration.html). These integration types can be broken down into two categories:\n",
    "\n",
    "- Integration methods for distributed plasticity: These integration types allow for plastic deformation to occur along the entire length of the element. These approaches are more detailed and should be used when distributed loads or complex loading conditions are imposed on a model.\n",
    "\n",
    "- Plastic Hinge integration methods: These integration types make the assumption that plastic deformation is concentrated at specified locations. These approaches are more simple and therefore less accurate but are computationally more efficient. When using this type of integration method the user should select the command type based on the locations that plastic hinges are expected to form\n",
    "\n",
    "\n",
    "\n",
    "In this example, the goemTransf command with the type PDelta is used. This is because some lateral deflection and therefore PDelta effects could be possible as a result of column buckling or deflection. The beamIntegration command is then used to select the 'Lobatto' integration type, which is a distributed plasticity integration type. This is chosen for improved accuracy and because the model is not expected to form plastic hinges.\n"
   ]
  },
  {
   "cell_type": "code",
   "execution_count": 74,
   "metadata": {},
   "outputs": [
    {
     "data": {
      "text/plain": [
       "<Axes: >"
      ]
     },
     "execution_count": 74,
     "metadata": {},
     "output_type": "execute_result"
    },
    {
     "data": {
      "image/png": "[encoded data removed]",
      "text/plain": [
       "<Figure size 640x480 with 1 Axes>"
      ]
     },
     "metadata": {},
     "output_type": "display_data"
    }
   ],
   "source": [
    "# Define column elements\n",
    "# ----------------------\n",
    "#                type   tag\n",
    "ops.geomTransf('PDelta', 1)\n",
    "\n",
    "# Number of integration points along length of element\n",
    "np = 5\n",
    "\n",
    "# Lobatto integration\n",
    "#              type  integrationTag  sectionTag  np\n",
    "ops.beamIntegration('Lobatto', 1, 1, np)\n",
    "\n",
    "# Create the coulumns using Beam-column elements\n",
    "#            type tag elenodes() transfTag integrationTag\n",
    "eleType = 'forceBeamColumn'\n",
    "ops.element(eleType, 1, 1, 3, 1, 1)\n",
    "ops.element(eleType, 2, 2, 4, 1, 1)\n",
    "\n",
    "\n",
    "# Define beam element\n",
    "# -----------------------------\n",
    "#                type   tag\n",
    "ops.geomTransf('Linear', 2)\n",
    "\n",
    "# Create the beam element\n",
    "#                              tag  elenodes()                    transfTag\n",
    "ops.element('elasticBeamColumn', 3, 3, 4, A_beam, E_beam, Iz_beam, 2)\n",
    "\n",
    "#Plot the model\n",
    "opsv.plot_model()"
   ]
  },
  {
   "cell_type": "markdown",
   "metadata": {},
   "source": [
    "Showm belpw os Load definition using timeSeries, pattern, and load commands. Refer to basic truss example notebook for explaination of these commands."
   ]
  },
  {
   "cell_type": "code",
   "execution_count": 75,
   "metadata": {},
   "outputs": [],
   "source": [
    "# Define gravity loads\n",
    "# --------------------\n",
    "\n",
    "#  a parameter for the axial load\n",
    "P = 180.0;  # 10% of axial capacity of columns\n",
    "\n",
    "# Create a Plain load pattern with a Linear TimeSeries\n",
    "ops.timeSeries('Linear', 1)\n",
    "ops.pattern('Plain', 1, 1)\n",
    "\n",
    "# Create nodal loads at nodes 3 & 4\n",
    "#        nd  FX  FY  MZ\n",
    "ops.load(3, 0.0, -P, 0.0)\n",
    "ops.load(4, 0.0, -P, 0.0)\n",
    "\n",
    "# ------------------------------\n",
    "# End of model generation\n",
    "# ------------------------------"
   ]
  },
  {
   "cell_type": "markdown",
   "metadata": {},
   "source": [
    "## Analysis\n",
    "\n",
    "The commands used in the analysis script below are explained in the Basic Truss Example, with the exclusion of the 'test command'.\n",
    "\n",
    "The test command sets up a convergence test that checks if the norm of the displacement increments is below a specified tolerance within a given number of iterations. This ensures that the solution has converged to an acceptable level of accuracy during the analysis."
   ]
  },
  {
   "cell_type": "code",
   "execution_count": 76,
   "metadata": {},
   "outputs": [
    {
     "data": {
      "text/plain": [
       "0"
      ]
     },
     "execution_count": 76,
     "metadata": {},
     "output_type": "execute_result"
    }
   ],
   "source": [
    "# Create the system of equations\n",
    "ops.system('BandGeneral')\n",
    "\n",
    "# Create the constraint handler, the transformation method\n",
    "ops.constraints('Plain')\n",
    "\n",
    "# Create the DOF numberer, the reverse Cuthill-McKee algorithm\n",
    "ops.numberer('RCM')\n",
    "\n",
    "# Create the convergence test, type is norm of the residual\n",
    "# tolerance of 1e-12 and a max number of iterations of 10\n",
    "ops.test('NormDispIncr', 1.0e-12, 10, 3)\n",
    "\n",
    "# Create the solution algorithm, a Newton-Raphson algorithm\n",
    "ops.algorithm('Newton')\n",
    "\n",
    "# Create the integration scheme, load control using steps of 0.1\n",
    "ops.integrator('LoadControl', 0.1)\n",
    "\n",
    "# Create the analysis object\n",
    "ops.analysis('Static')\n",
    "\n",
    "# perform the gravity load analysis, requires 10 steps to reach the load level\n",
    "ops.analyze(10)"
   ]
  },
  {
   "cell_type": "markdown",
   "metadata": {},
   "source": [
    "The deformed shape of the truss after gravity analysis is shown below using the opsvis module."
   ]
  },
  {
   "cell_type": "code",
   "execution_count": 77,
   "metadata": {},
   "outputs": [
    {
     "data": {
      "text/plain": [
       "Text(0.5, 1.0, 'Deformed shape')"
      ]
     },
     "execution_count": 77,
     "metadata": {},
     "output_type": "execute_result"
    },
    {
     "data": {
      "image/png": "[encoded data removed]",
      "text/plain": [
       "<Figure size 640x480 with 1 Axes>"
      ]
     },
     "metadata": {},
     "output_type": "display_data"
    }
   ],
   "source": [
    "opsv.plot_defo()\n",
    "plt.title('Deformed shape')"
   ]
  },
  {
   "cell_type": "markdown",
   "metadata": {},
   "source": [
    "## Pushover Analysis"
   ]
  },
  {
   "cell_type": "markdown",
   "metadata": {},
   "source": [
    "To start the pushover analysis, a new loading condition is defined using the pattern and node commands that are explained in the 'Basic Truss Example'."
   ]
  },
  {
   "cell_type": "code",
   "execution_count": 78,
   "metadata": {},
   "outputs": [],
   "source": [
    "# Set lateral load pattern with a Linear TimeSeries\n",
    "ops.pattern('Plain', 2, 1)\n",
    "\n",
    "# Create nodal loads at nodes 3 & 4\n",
    "#      node FX  FY\n",
    "ops.load(3, 10, 0.0, 0.0)\n",
    "ops.load(4, 10, 0.0, 0.0)"
   ]
  },
  {
   "cell_type": "markdown",
   "metadata": {},
   "source": [
    "The next block of code makes some modifications to the analysis of the model. To perform pushover analysis a 'displacement controlled' analysis is implemented using the intergrator command. This method determines the time step that will result in a specified displacement of a node in a specified direction i.e. how long it will take a specified displacement to occur. The command allows the user to specify and node of interest and its DoFs, the first displacement increment, the number of iterations they wish to use, and a range of acceptible step sizes. The test command is then called again to update the tolerance of the convergence test and the number of iterations."
   ]
  },
  {
   "cell_type": "code",
   "execution_count": 79,
   "metadata": {},
   "outputs": [
    {
     "data": {
      "text/plain": [
       "0"
      ]
     },
     "execution_count": 79,
     "metadata": {},
     "output_type": "execute_result"
    }
   ],
   "source": [
    "# Displacement increment\n",
    "dU = 0.1  \n",
    "\n",
    "# Change the integration scheme to be displacement control\n",
    "#                 integratorType   node dof init Jd min max\n",
    "ops.integrator('DisplacementControl', 3, 1, dU, 1, dU, dU)\n",
    "\n",
    "ops.test('NormDispIncr', 1.0e-8, 20)\n",
    "\n",
    "ops.analyze(1)"
   ]
  },
  {
   "cell_type": "markdown",
   "metadata": {},
   "source": [
    "Below, the deformed shape is plotted and displacements of nodes 3 and 4 are included in the title."
   ]
  },
  {
   "cell_type": "code",
   "execution_count": 80,
   "metadata": {},
   "outputs": [
    {
     "data": {
      "text/plain": [
       "Text(0.5, 1.0, 'Deformed shape\\nNode 3 Displacement: x = 0.1000 m, y = -0.7763 m\\nNode 4 Displacement: x = 0.1000 m, y = -0.7801 m')"
      ]
     },
     "execution_count": 80,
     "metadata": {},
     "output_type": "execute_result"
    },
    {
     "data": {
      "image/png": "[encoded data removed]",
      "text/plain": [
       "<Figure size 640x480 with 1 Axes>"
      ]
     },
     "metadata": {},
     "output_type": "display_data"
    }
   ],
   "source": [
    "n3x = ops.nodeDisp(3, 1)\n",
    "n3y = ops.nodeDisp(3, 2)\n",
    "\n",
    "n4x = ops.nodeDisp(4, 1)\n",
    "n4y = ops.nodeDisp(4, 2)\n",
    "\n",
    "opsv.plot_defo()\n",
    "plt.title(f'Deformed shape\\nNode 3 Displacement: x = {n3x:.4f} m, y = {n3y:.4f} m\\nNode 4 Displacement: x = {n4x:.4f} m, y = {n4y:.4f} m')"
   ]
  }
 ],
 "metadata": {
  "kernelspec": {
   "display_name": ".venv",
   "language": "python",
   "name": "python3"
  },
  "language_info": {
   "codemirror_mode": {
    "name": "ipython",
    "version": 3
   },
   "file_extension": ".py",
   "mimetype": "text/x-python",
   "name": "python",
   "nbconvert_exporter": "python",
   "pygments_lexer": "ipython3",
   "version": "3.10.11"
  }
 },
 "nbformat": 4,
 "nbformat_minor": 2
}
