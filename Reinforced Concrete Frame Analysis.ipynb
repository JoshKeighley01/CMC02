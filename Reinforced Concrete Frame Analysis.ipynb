{
 "cells": [
  {
   "cell_type": "markdown",
   "metadata": {},
   "source": [
    "# Reinforced Concrete Frame Analysis"
   ]
  },
  {
   "cell_type": "markdown",
   "metadata": {},
   "source": [
    "This notebook explains the analysis of the reinforced concrete frame shown below using OpenSeesPy. The frame will be analysed using gravity load analysis, pushover analysis and earthquake analysis. The example is scourced from the OpenSees wiki [here](https://opensees.ist.berkeley.edu/wiki/index.php?title=Reinforced_Concrete_Frame_Example). The code used in the notebook is a modified version of the scripts provided in the OpenSeesPy doucmentation [here](https://openseespydoc.readthedocs.io/en/latest/src/RCFrameGravity.html). This notebook will also introduce the use of the 'opsvis' module. The documentation for this module can be found [here](https://opsvis.readthedocs.io/en/latest/). It is advisable for the reader to use this module in when they tackle problems using OpenSeesPy in the future. The module is very simple to use, is excellent for problem visualisation and understanding what is happening in each step. "
   ]
  },
  {
   "cell_type": "markdown",
   "metadata": {},
   "source": [
    "\n",
    "## Diagram"
   ]
  },
  {
   "cell_type": "markdown",
   "metadata": {},
   "source": [
    "![alt text](<Reinforced concrete frame diagram.PNG>)"
   ]
  },
  {
   "cell_type": "markdown",
   "metadata": {},
   "source": [
    "Below the required modules are imported and important variables are defined"
   ]
  },
  {
   "cell_type": "code",
   "execution_count": null,
   "metadata": {},
   "outputs": [],
   "source": [
    "import openseespy.opensees as ops\n",
    "import numpy as np\n",
    "import opsvis as opsv\n",
    "import matplotlib.pyplot as plt\n",
    "import os\n",
    "\n",
    "#Units\n",
    "m = 1\n",
    "N = 1\n",
    "Pa = 1\n",
    "\n",
    "inches = 0.0254*m\n",
    "ft = 12*inches\n",
    "kip = 4.45*10**3*N\n",
    "ksi = 6.89*10**6*Pa\n",
    "\n",
    "# Portal frame dimensions\n",
    "width = 30*ft\n",
    "height = 12*ft\n",
    "\n",
    "# Column dimensions\n",
    "colWidth = 15*inches\n",
    "colDepth = 24*inches\n",
    "\n",
    "# Steel reinforcement\n",
    "cover = 1.5*inches\n",
    "As = (0.60*inches)**2  # area of no. 7 bars\n",
    "fy = 60.0;  # Yield stress\n",
    "E = 30000.0;  # Young's modulus\n",
    "\n",
    "# Column centrelines\n",
    "y1 = colDepth / 2.0\n",
    "z1 = colWidth / 2.0\n",
    "\n",
    "# Beam properties\n",
    "A_beam = 360.0\n",
    "E_beam = 4030.0\n",
    "Iz_beam = 8640.0\n",
    "\n",
    "# Set deflection tolerance\n",
    "tol = 1e-6"
   ]
  },
  {
   "cell_type": "markdown",
   "metadata": {},
   "source": [
    "## Model Definition"
   ]
  },
  {
   "cell_type": "markdown",
   "metadata": {},
   "source": [
    "This code blocks executes the model definition, creates notes and sets boundry conditions. Refer to basic truss example notebook for explaination of these commands. Then the 'plot_model' command from the opsvis module is used to plot model as it stands."
   ]
  },
  {
   "cell_type": "code",
   "execution_count": null,
   "metadata": {},
   "outputs": [
    {
     "name": "stdout",
     "output_type": "stream",
     "text": [
      "==========================\n",
      "Starting RCFrameGravity example\n"
     ]
    },
    {
     "data": {
      "text/plain": [
       "Text(0.5, 1.0, 'Plot model nodes')"
      ]
     },
     "execution_count": 39,
     "metadata": {},
     "output_type": "execute_result"
    },
    {
     "data": {
      "image/png": "[encoded data removed]",
      "text/plain": [
       "<Figure size 640x480 with 1 Axes>"
      ]
     },
     "metadata": {},
     "output_type": "display_data"
    }
   ],
   "source": [
    "ops.wipe()\n",
    "\n",
    "#Create file path for data output\n",
    "if not os.path.exists('Data'):\n",
    "    os.mkdir('Data')\n",
    "\n",
    "print(\"==========================\")\n",
    "print(\"Starting RCFrameGravity example\")\n",
    "\n",
    "# Model Definition\n",
    "# ----------------\n",
    "\n",
    "# Create ModelBuilder (with two-dimensions and 3 DOF/node)\n",
    "ops.model('basic', '-ndm', 2, '-ndf', 3)\n",
    "\n",
    "# Create nodes\n",
    "#         tag, X, Y\n",
    "ops.node(1, 0.0, 0.0)\n",
    "ops.node(2, width, 0.0)\n",
    "ops.node(3, 0.0, height)\n",
    "ops.node(4, width, height)\n",
    "\n",
    "# Fix supports at base of columns\n",
    "#   tag, DX, DY, RZ\n",
    "ops.fix(1, 1, 1, 1)\n",
    "ops.fix(2, 1, 1, 1)\n",
    "\n",
    "#Plot the model\n",
    "opsv.plot_model()\n",
    "plt.title('Plot model nodes')"
   ]
  },
  {
   "cell_type": "markdown",
   "metadata": {},
   "source": [
    "Shown below is the material definition. Refer to basic truss example notebook for explaination of uniaxialMaterial command."
   ]
  },
  {
   "cell_type": "code",
   "execution_count": null,
   "metadata": {},
   "outputs": [],
   "source": [
    "# Define materials for nonlinear columns\n",
    "# ------------------------------------------\n",
    "\n",
    "# CONCRETE                        tag  f'c    ec0    f'cu   ecu\n",
    "# Core concrete (confined)\n",
    "ops.uniaxialMaterial('Concrete01', 1, -6.0, -0.004, -5.0, -0.014)\n",
    "\n",
    "# Cover concrete (unconfined)\n",
    "ops.uniaxialMaterial('Concrete01', 2, -5.0, -0.002, 0.0, -0.006)\n",
    "\n",
    "# STEEL                        tag  fy E0    b\n",
    "ops.uniaxialMaterial('Steel01', 3, fy, E, 0.01)\n"
   ]
  },
  {
   "cell_type": "markdown",
   "metadata": {},
   "source": [
    "Shown below is the definition of the column cross-section. The cross-section was both defined and plotted using the opsvis module. To do so, a list of lists (fib_sec_1) was created which defines list of OpenSeesPy commands. Each list, within the list of lists, defines the command 'type' and then all of the command inputs. The list of lists is then used to plot the section using the opsvis 'plot_fibre_section' command. Then the list of lists is changed to OpenSeesPy commands using the opsvis 'fib_sec_list_to_cmds' command. This executes the commands as they would be is called using OpenSeesPy. \n",
    "\n",
    "The standard way of defining the section using OpenSeesPy is shown in the commented out code below. The 'section' command with command type 'Fiber' allows the creation of a Fiber Section object. A fiber section object is a cross-section that changes across defined boundries. In the case of this example, the cross-section differs in the 'confined conrete' reigon in comparison to the 'cover concrete' reigon. These reigons are defined by the placement of reinforcement within the cross-section. These reigons are defined in OpenSeesPy using the 'patch' command. By using the patch command type 'rect' a number of rectangular shaped fibers are created within a reigon of the Fibre Section that you define. In the case of this example, one rectangle reigon is used to defined the core concrete (plotted in red), and four rectangle reigons are used to define the surrounding cover concrete (plotted in light grey). These reigon can be split up into numerous fibers as seen in the patch command documentation [here](https://openseespydoc.readthedocs.io/en/latest/src/patch.html). "
   ]
  },
  {
   "cell_type": "code",
   "execution_count": null,
   "metadata": {},
   "outputs": [
    {
     "data": {
      "image/png": "[encoded data removed]",
      "text/plain": [
       "<Figure size 640x480 with 1 Axes>"
      ]
     },
     "metadata": {},
     "output_type": "display_data"
    }
   ],
   "source": [
    "# Define cross-section for nonlinear columns\n",
    "# ------------------------------------------\n",
    "\n",
    "ops.section('Fiber', 1)\n",
    "\n",
    "# Create the concrete core fiber\n",
    "ops.patch('rect', 1, 10, 1, cover - y1, cover - z1, y1 - cover, z1 - cover)\n",
    "\n",
    "# Create the concrete cover fibers (top, bottom, left, right)\n",
    "ops.patch('rect', 2, 10, 1, -y1, z1 - cover, y1, z1)\n",
    "ops.patch('rect', 2, 10, 1, -y1, -z1, y1, cover - z1)\n",
    "ops.patch('rect', 2, 2, 1, -y1, cover - z1, cover - y1, z1 - cover)\n",
    "ops.patch('rect', 2, 2, 1, y1 - cover, cover - z1, y1, z1 - cover)\n",
    "\n",
    "# Create the reinforcing fibers (left, middle, right)\n",
    "ops.layer('straight', 3, 3, As, y1 - cover, z1 - cover, y1 - cover, cover - z1)\n",
    "ops.layer('straight', 3, 2, As, 0.0, z1 - cover, 0.0, cover - z1)\n",
    "ops.layer('straight', 3, 3, As, cover - y1, z1 - cover, cover - y1, cover - z1)\n",
    "\n",
    "# Plot the fibre section\n",
    "fib_sec_1 = [['section', 'Fiber', 1, '-GJ', 1.0e6],\n",
    "             ['patch', 'rect', 1, 10, 1, cover - y1, cover - z1, y1 - cover, z1 - cover],  # core concrete\n",
    "             ['patch', 'rect', 2, 10, 1, -y1, z1 - cover, y1, z1],  # top cover\n",
    "             ['patch', 'rect', 2, 10, 1, -y1, -z1, y1, cover - z1],  # bottom cover\n",
    "             ['patch', 'rect', 2, 2, 1, -y1, cover - z1, cover - y1, z1 - cover],  # left cover\n",
    "             ['patch', 'rect', 2, 2, 1, y1 - cover, cover - z1, y1, z1 - cover],  # right cover \n",
    "             ['layer','straight', 3, 3, As, y1 - cover, z1 - cover, y1 - cover, cover - z1], # Left layer of steel reinforcement\n",
    "             ['layer','straight', 3, 2, As, 0.0, z1 - cover, 0.0, cover - z1], # Middle layer\n",
    "             ['layer','straight', 3, 3, As, cover - y1, z1 - cover, cover - y1, cover - z1] #right layer\n",
    "             ]            \n",
    "\n",
    "matcolor = ['r', 'lightgrey']\n",
    "opsv.plot_fiber_section(fib_sec_1, matcolor=matcolor)\n",
    "plt.axis('equal')\n",
    "plt.show()\n",
    "\n",
    "opsv.fib_sec_list_to_cmds(fib_sec_1)"
   ]
  },
  {
   "cell_type": "markdown",
   "metadata": {},
   "source": [
    "Shown below is the definiton and plotting of elements. The geomTransf command is used to construct a cooridinate transformation object???? when should you use which type ????. The 'beamIntegration command selects the numerical integration algorithm that will be used to solve the problem, in this case Guass-Lobatto. "
   ]
  },
  {
   "cell_type": "code",
   "execution_count": null,
   "metadata": {},
   "outputs": [
    {
     "data": {
      "text/plain": [
       "<Axes: >"
      ]
     },
     "execution_count": 42,
     "metadata": {},
     "output_type": "execute_result"
    },
    {
     "data": {
      "image/png": "[encoded data removed]",
      "text/plain": [
       "<Figure size 640x480 with 1 Axes>"
      ]
     },
     "metadata": {},
     "output_type": "display_data"
    }
   ],
   "source": [
    "# Define column elements\n",
    "# ----------------------\n",
    "\n",
    "# Geometry of column elements\n",
    "#                type   tag\n",
    "ops.geomTransf('PDelta', 1)\n",
    "\n",
    "# Number of integration points along length of element\n",
    "np = 5\n",
    "\n",
    "# Lobatto integration\n",
    "#              type  integrationTag  sectionTag  np\n",
    "ops.beamIntegration('Lobatto', 1, 1, np)\n",
    "\n",
    "# Create the coulumns using Beam-column elements\n",
    "#            type tag elenodes() transfTag integrationTag\n",
    "eleType = 'forceBeamColumn'\n",
    "ops.element(eleType, 1, 1, 3, 1, 1)\n",
    "ops.element(eleType, 2, 2, 4, 1, 1)\n",
    "\n",
    "\n",
    "# Define beam element\n",
    "# -----------------------------\n",
    "\n",
    "# Geometry of column elements\n",
    "#                type   tag\n",
    "ops.geomTransf('Linear', 2)\n",
    "\n",
    "# Create the beam element\n",
    "#                              tag  elenodes()                    transfTag\n",
    "ops.element('elasticBeamColumn', 3, 3, 4, A_beam, E_beam, Iz_beam, 2)\n",
    "\n",
    "#Plot the model\n",
    "opsv.plot_model()"
   ]
  },
  {
   "cell_type": "markdown",
   "metadata": {},
   "source": [
    "Load definition and plotting. Refer to basic truss example notebook for explaination of these commands"
   ]
  },
  {
   "cell_type": "code",
   "execution_count": null,
   "metadata": {},
   "outputs": [],
   "source": [
    "# Define gravity loads\n",
    "# --------------------\n",
    "\n",
    "#  a parameter for the axial load\n",
    "P = 180.0;  # 10% of axial capacity of columns\n",
    "\n",
    "# Create a Plain load pattern with a Linear TimeSeries\n",
    "ops.timeSeries('Linear', 1)\n",
    "ops.pattern('Plain', 1, 1)\n",
    "\n",
    "# Create nodal loads at nodes 3 & 4\n",
    "#        nd  FX  FY  MZ\n",
    "ops.load(3, 0.0, -P, 0.0)\n",
    "ops.load(4, 0.0, -P, 0.0)\n",
    "\n",
    "# ------------------------------\n",
    "# End of model generation\n",
    "# ------------------------------"
   ]
  },
  {
   "cell_type": "markdown",
   "metadata": {},
   "source": [
    "## Analysis\n",
    "\n",
    "model analysis defined below"
   ]
  },
  {
   "cell_type": "code",
   "execution_count": null,
   "metadata": {},
   "outputs": [],
   "source": [
    "# ------------------------------\n",
    "# Start of analysis generation\n",
    "# ------------------------------\n",
    "\n",
    "# Create the system of equation, a sparse solver with partial pivoting\n",
    "ops.system('BandGeneral')\n",
    "\n",
    "# Create the constraint handler, the transformation method\n",
    "ops.constraints('Transformation')\n",
    "\n",
    "# Create the DOF numberer, the reverse Cuthill-McKee algorithm\n",
    "ops.numberer('RCM')\n",
    "\n",
    "# Create the convergence test, the norm of the residual with a tolerance of\n",
    "# 1e-12 and a max number of iterations of 10\n",
    "ops.test('NormDispIncr', 1.0e-12, 10, 3)\n",
    "\n",
    "# Create the solution algorithm, a Newton-Raphson algorithm\n",
    "ops.algorithm('Newton')\n",
    "\n",
    "# Create the integration scheme, the LoadControl scheme using steps of 0.1\n",
    "ops.integrator('LoadControl', 0.1)\n",
    "\n",
    "# Create the analysis object\n",
    "ops.analysis('Static')\n",
    "\n",
    "# ------------------------------\n",
    "# End of analysis generation\n",
    "# ------------------------------"
   ]
  },
  {
   "cell_type": "markdown",
   "metadata": {},
   "source": [
    "Analysis output"
   ]
  },
  {
   "cell_type": "code",
   "execution_count": null,
   "metadata": {},
   "outputs": [
    {
     "name": "stdout",
     "output_type": "stream",
     "text": [
      "Failed!\n",
      "==========================\n"
     ]
    }
   ],
   "source": [
    "# ------------------------------\n",
    "# Finally perform the analysis\n",
    "# ------------------------------\n",
    "\n",
    "# perform the gravity load analysis, requires 10 steps to reach the load level\n",
    "ops.analyze(10)\n",
    "\n",
    "# Determine displacement at nodes\n",
    "\n",
    "u3 = ops.nodeDisp(3, 2)\n",
    "u4 = ops.nodeDisp(4, 2)\n",
    "\n",
    "if abs(u3) < tol and abs(u4) < tol:\n",
    "    print(\"Passed!\")\n",
    "else:\n",
    "    print(\"Failed!\")\n",
    "\n",
    "print(\"==========================\")"
   ]
  },
  {
   "cell_type": "markdown",
   "metadata": {},
   "source": [
    "## Pushover Analysis"
   ]
  },
  {
   "cell_type": "code",
   "execution_count": null,
   "metadata": {},
   "outputs": [],
   "source": [
    "# Define lateral loads\n",
    "# --------------------\n",
    "\n",
    "# Set some parameters\n",
    "H = 10.0  # Reference lateral load\n",
    "\n",
    "# Set lateral load pattern with a Linear TimeSeries\n",
    "ops.pattern('Plain', 2, 1)\n",
    "\n",
    "# Create nodal loads at nodes 3 & 4\n",
    "#    nd    FX  FY  MZ\n",
    "ops.load(3, H, 0.0, 0.0)\n",
    "ops.load(4, H, 0.0, 0.0)"
   ]
  },
  {
   "cell_type": "markdown",
   "metadata": {},
   "source": []
  },
  {
   "cell_type": "code",
   "execution_count": null,
   "metadata": {},
   "outputs": [],
   "source": [
    "# ----------------------------------------------------\n",
    "# Start of modifications to analysis for push over\n",
    "# ----------------------------------------------------\n",
    "\n",
    "# Set some parameters\n",
    "dU = 0.1  # Displacement increment\n",
    "\n",
    "# Change the integration scheme to be displacement control\n",
    "#                             node dof init Jd min max\n",
    "ops.integrator('DisplacementControl', 3, 1, dU, 1, dU, dU)\n",
    "\n",
    "# ----------------------------------------------------\n",
    "# End of modifications to analysis for push over\n",
    "# ----------------------------------------------------"
   ]
  },
  {
   "cell_type": "markdown",
   "metadata": {},
   "source": []
  },
  {
   "cell_type": "code",
   "execution_count": null,
   "metadata": {},
   "outputs": [
    {
     "name": "stderr",
     "output_type": "stream",
     "text": [
      "WARNING: CTestNormDispIncr::test() - failed to converge \n",
      "after: 1000 iterations  current Norm: "
     ]
    },
    {
     "name": "stdout",
     "output_type": "stream",
     "text": [
      "modified newton failed\n",
      "Failed!\n",
      "==========================\n"
     ]
    },
    {
     "name": "stderr",
     "output_type": "stream",
     "text": [
      "0.459457 (max: 1e-12, Norm deltaR: 111.964)\n",
      "ModifiedNewton::solveCurrentStep() -the ConvergenceTest object failed in test()\n",
      "StaticAnalysis::analyze() - the Algorithm failed at step: 0 with domain at load factor -0.145198\n",
      "OpenSees > analyze failed, returned: -3 error flag\n"
     ]
    }
   ],
   "source": [
    "# ------------------------------\n",
    "# Finally perform the analysis\n",
    "# ------------------------------\n",
    "\n",
    "# Set some parameters\n",
    "maxU = 15.0  # Max displacement\n",
    "currentDisp = 0.0\n",
    "ok = 0\n",
    "\n",
    "ops.test('NormDispIncr', 1.0e-12, 1000)\n",
    "ops.algorithm('ModifiedNewton', '-initial')\n",
    "\n",
    "while ok == 0 and currentDisp < maxU:\n",
    "\n",
    "    ok = ops.analyze(1)\n",
    "\n",
    "    # if the analysis fails try initial tangent iteration\n",
    "    if ok != 0:\n",
    "        print(\"modified newton failed\")\n",
    "        break\n",
    "    # print \"regular newton failed .. lets try an initail stiffness for this step\"\n",
    "    # test('NormDispIncr', 1.0e-12,  1000)\n",
    "    # # algorithm('ModifiedNewton', '-initial')\n",
    "    # ok = analyze(1)\n",
    "    # if ok == 0:\n",
    "    #     print \"that worked .. back to regular newton\"\n",
    "\n",
    "    # test('NormDispIncr', 1.0e-12,  10)\n",
    "    # algorithm('Newton')\n",
    "\n",
    "    currentDisp = ops.nodeDisp(3, 1)\n",
    "\n",
    "results = open('results.out', 'a+')\n",
    "\n",
    "if ok == 0:\n",
    "    results.write('PASSED : RCFramePushover.py\\n')\n",
    "    print(\"Passed!\")\n",
    "else:\n",
    "    results.write('FAILED : RCFramePushover.py\\n')\n",
    "    print(\"Failed!\")\n",
    "\n",
    "results.close()\n",
    "\n",
    "# Print the state at node 3\n",
    "# print node 3\n",
    "\n",
    "\n",
    "print(\"==========================\")"
   ]
  }
 ],
 "metadata": {
  "kernelspec": {
   "display_name": ".venv",
   "language": "python",
   "name": "python3"
  },
  "language_info": {
   "codemirror_mode": {
    "name": "ipython",
    "version": 3
   },
   "file_extension": ".py",
   "mimetype": "text/x-python",
   "name": "python",
   "nbconvert_exporter": "python",
   "pygments_lexer": "ipython3",
   "version": "3.10.11"
  }
 },
 "nbformat": 4,
 "nbformat_minor": 2
}
